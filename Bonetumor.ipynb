{
 "cells": [
  {
   "cell_type": "code",
   "execution_count": 2,
   "id": "701dc9e6-2b16-49ae-9038-fd5dfb6ad287",
   "metadata": {},
   "outputs": [],
   "source": [
    "import pandas as pd\n",
    "import numpy as np\n",
    "import matplotlib.pyplot as plt\n",
    "import seaborn as sns"
   ]
  },
  {
   "cell_type": "code",
   "execution_count": 3,
   "id": "ae755a9c-40cc-49d3-af91-7a0ceab68ba9",
   "metadata": {},
   "outputs": [],
   "source": [
    "df=pd.read_csv('Bone Tumor Dataset.csv')"
   ]
  },
  {
   "cell_type": "code",
   "execution_count": 4,
   "id": "d3cc08ee-4a1d-4579-9fd2-ac0c5c53ce6f",
   "metadata": {},
   "outputs": [
    {
     "data": {
      "text/html": [
       "<div>\n",
       "<style scoped>\n",
       "    .dataframe tbody tr th:only-of-type {\n",
       "        vertical-align: middle;\n",
       "    }\n",
       "\n",
       "    .dataframe tbody tr th {\n",
       "        vertical-align: top;\n",
       "    }\n",
       "\n",
       "    .dataframe thead th {\n",
       "        text-align: right;\n",
       "    }\n",
       "</style>\n",
       "<table border=\"1\" class=\"dataframe\">\n",
       "  <thead>\n",
       "    <tr style=\"text-align: right;\">\n",
       "      <th></th>\n",
       "      <th>Patient ID</th>\n",
       "      <th>Sex</th>\n",
       "      <th>Age</th>\n",
       "      <th>Grade</th>\n",
       "      <th>Histological type</th>\n",
       "      <th>MSKCC type</th>\n",
       "      <th>Site of primary STS</th>\n",
       "      <th>Status (NED, AWD, D)</th>\n",
       "      <th>Treatment</th>\n",
       "    </tr>\n",
       "  </thead>\n",
       "  <tbody>\n",
       "    <tr>\n",
       "      <th>0</th>\n",
       "      <td>STS_001</td>\n",
       "      <td>Female</td>\n",
       "      <td>63</td>\n",
       "      <td>High</td>\n",
       "      <td>pleiomorphic leiomyosarcoma</td>\n",
       "      <td>Leiomyosarcoma</td>\n",
       "      <td>parascapusular</td>\n",
       "      <td>NED</td>\n",
       "      <td>Radiotherapy + Surgery</td>\n",
       "    </tr>\n",
       "    <tr>\n",
       "      <th>1</th>\n",
       "      <td>STS_002</td>\n",
       "      <td>Female</td>\n",
       "      <td>54</td>\n",
       "      <td>Intermediate</td>\n",
       "      <td>pleiomorphic leiomyosarcoma</td>\n",
       "      <td>MFH</td>\n",
       "      <td>left thigh</td>\n",
       "      <td>D</td>\n",
       "      <td>Surgery + Chemotherapy</td>\n",
       "    </tr>\n",
       "    <tr>\n",
       "      <th>2</th>\n",
       "      <td>STS_003</td>\n",
       "      <td>Male</td>\n",
       "      <td>22</td>\n",
       "      <td>Intermediate</td>\n",
       "      <td>synovial sarcoma</td>\n",
       "      <td>MFH</td>\n",
       "      <td>right buttock</td>\n",
       "      <td>D</td>\n",
       "      <td>Radiotherapy + Surgery</td>\n",
       "    </tr>\n",
       "    <tr>\n",
       "      <th>3</th>\n",
       "      <td>STS_004</td>\n",
       "      <td>Female</td>\n",
       "      <td>54</td>\n",
       "      <td>Intermediate</td>\n",
       "      <td>synovial sarcoma</td>\n",
       "      <td>Leiomyosarcoma</td>\n",
       "      <td>right thigh</td>\n",
       "      <td>NED</td>\n",
       "      <td>Radiotherapy + Surgery</td>\n",
       "    </tr>\n",
       "    <tr>\n",
       "      <th>4</th>\n",
       "      <td>STS_005</td>\n",
       "      <td>Male</td>\n",
       "      <td>63</td>\n",
       "      <td>High</td>\n",
       "      <td>pleiomorphic spindle cell undifferentiated</td>\n",
       "      <td>MFH</td>\n",
       "      <td>right parascapusular</td>\n",
       "      <td>AWD</td>\n",
       "      <td>Radiotherapy + Surgery + Chemotherapy</td>\n",
       "    </tr>\n",
       "  </tbody>\n",
       "</table>\n",
       "</div>"
      ],
      "text/plain": [
       "  Patient ID     Sex  Age         Grade  \\\n",
       "0    STS_001  Female   63          High   \n",
       "1    STS_002  Female   54  Intermediate   \n",
       "2    STS_003    Male   22  Intermediate   \n",
       "3    STS_004  Female   54  Intermediate   \n",
       "4    STS_005    Male   63          High   \n",
       "\n",
       "                            Histological type      MSKCC type  \\\n",
       "0                 pleiomorphic leiomyosarcoma  Leiomyosarcoma   \n",
       "1                 pleiomorphic leiomyosarcoma             MFH   \n",
       "2                            synovial sarcoma             MFH   \n",
       "3                            synovial sarcoma  Leiomyosarcoma   \n",
       "4  pleiomorphic spindle cell undifferentiated             MFH   \n",
       "\n",
       "    Site of primary STS Status (NED, AWD, D)  \\\n",
       "0        parascapusular                  NED   \n",
       "1            left thigh                    D   \n",
       "2         right buttock                    D   \n",
       "3           right thigh                  NED   \n",
       "4  right parascapusular                  AWD   \n",
       "\n",
       "                               Treatment  \n",
       "0                 Radiotherapy + Surgery  \n",
       "1                 Surgery + Chemotherapy  \n",
       "2                 Radiotherapy + Surgery  \n",
       "3                 Radiotherapy + Surgery  \n",
       "4  Radiotherapy + Surgery + Chemotherapy  "
      ]
     },
     "execution_count": 4,
     "metadata": {},
     "output_type": "execute_result"
    }
   ],
   "source": [
    "df.head()\n"
   ]
  },
  {
   "cell_type": "code",
   "execution_count": 5,
   "id": "378c6d44-0329-481e-a2b2-57c6f5a9ff84",
   "metadata": {},
   "outputs": [
    {
     "data": {
      "text/html": [
       "<div>\n",
       "<style scoped>\n",
       "    .dataframe tbody tr th:only-of-type {\n",
       "        vertical-align: middle;\n",
       "    }\n",
       "\n",
       "    .dataframe tbody tr th {\n",
       "        vertical-align: top;\n",
       "    }\n",
       "\n",
       "    .dataframe thead th {\n",
       "        text-align: right;\n",
       "    }\n",
       "</style>\n",
       "<table border=\"1\" class=\"dataframe\">\n",
       "  <thead>\n",
       "    <tr style=\"text-align: right;\">\n",
       "      <th></th>\n",
       "      <th>Patient ID</th>\n",
       "      <th>Sex</th>\n",
       "      <th>Age</th>\n",
       "      <th>Grade</th>\n",
       "      <th>Histological type</th>\n",
       "      <th>MSKCC type</th>\n",
       "      <th>Site of primary STS</th>\n",
       "      <th>Status (NED, AWD, D)</th>\n",
       "      <th>Treatment</th>\n",
       "    </tr>\n",
       "  </thead>\n",
       "  <tbody>\n",
       "    <tr>\n",
       "      <th>495</th>\n",
       "      <td>STS_496</td>\n",
       "      <td>Male</td>\n",
       "      <td>31</td>\n",
       "      <td>Intermediate</td>\n",
       "      <td>epithelioid sarcoma</td>\n",
       "      <td>MFH</td>\n",
       "      <td>left thigh</td>\n",
       "      <td>D</td>\n",
       "      <td>Surgery + Chemotherapy</td>\n",
       "    </tr>\n",
       "    <tr>\n",
       "      <th>496</th>\n",
       "      <td>STS_497</td>\n",
       "      <td>Male</td>\n",
       "      <td>41</td>\n",
       "      <td>High</td>\n",
       "      <td>poorly differentiated synovial sarcoma</td>\n",
       "      <td>MFH</td>\n",
       "      <td>right parascapusular</td>\n",
       "      <td>AWD</td>\n",
       "      <td>Radiotherapy + Surgery + Chemotherapy</td>\n",
       "    </tr>\n",
       "    <tr>\n",
       "      <th>497</th>\n",
       "      <td>STS_498</td>\n",
       "      <td>Female</td>\n",
       "      <td>60</td>\n",
       "      <td>Intermediate</td>\n",
       "      <td>pleomorphic sarcoma</td>\n",
       "      <td>Synovial sarcoma</td>\n",
       "      <td>right thigh</td>\n",
       "      <td>NED</td>\n",
       "      <td>Radiotherapy + Surgery</td>\n",
       "    </tr>\n",
       "    <tr>\n",
       "      <th>498</th>\n",
       "      <td>STS_499</td>\n",
       "      <td>Male</td>\n",
       "      <td>43</td>\n",
       "      <td>High</td>\n",
       "      <td>synovial sarcoma</td>\n",
       "      <td>MFH</td>\n",
       "      <td>right thigh</td>\n",
       "      <td>D</td>\n",
       "      <td>Radiotherapy + Surgery + Chemotherapy</td>\n",
       "    </tr>\n",
       "    <tr>\n",
       "      <th>499</th>\n",
       "      <td>STS_500</td>\n",
       "      <td>Female</td>\n",
       "      <td>73</td>\n",
       "      <td>Intermediate</td>\n",
       "      <td>pleiomorphic leiomyosarcoma</td>\n",
       "      <td>Leiomyosarcoma</td>\n",
       "      <td>left biceps</td>\n",
       "      <td>NED</td>\n",
       "      <td>Radiotherapy + Surgery</td>\n",
       "    </tr>\n",
       "  </tbody>\n",
       "</table>\n",
       "</div>"
      ],
      "text/plain": [
       "    Patient ID     Sex  Age         Grade  \\\n",
       "495    STS_496    Male   31  Intermediate   \n",
       "496    STS_497    Male   41          High   \n",
       "497    STS_498  Female   60  Intermediate   \n",
       "498    STS_499    Male   43          High   \n",
       "499    STS_500  Female   73  Intermediate   \n",
       "\n",
       "                          Histological type        MSKCC type  \\\n",
       "495                     epithelioid sarcoma               MFH   \n",
       "496  poorly differentiated synovial sarcoma               MFH   \n",
       "497                     pleomorphic sarcoma  Synovial sarcoma   \n",
       "498                        synovial sarcoma               MFH   \n",
       "499             pleiomorphic leiomyosarcoma    Leiomyosarcoma   \n",
       "\n",
       "      Site of primary STS Status (NED, AWD, D)  \\\n",
       "495            left thigh                    D   \n",
       "496  right parascapusular                  AWD   \n",
       "497           right thigh                  NED   \n",
       "498           right thigh                    D   \n",
       "499           left biceps                  NED   \n",
       "\n",
       "                                 Treatment  \n",
       "495                 Surgery + Chemotherapy  \n",
       "496  Radiotherapy + Surgery + Chemotherapy  \n",
       "497                 Radiotherapy + Surgery  \n",
       "498  Radiotherapy + Surgery + Chemotherapy  \n",
       "499                 Radiotherapy + Surgery  "
      ]
     },
     "execution_count": 5,
     "metadata": {},
     "output_type": "execute_result"
    }
   ],
   "source": [
    "df.tail()\n"
   ]
  },
  {
   "cell_type": "code",
   "execution_count": 6,
   "id": "6c4c1eeb-fc71-4035-8d01-c182a3450299",
   "metadata": {},
   "outputs": [
    {
     "data": {
      "text/plain": [
       "Index(['Patient ID', 'Sex', 'Age', 'Grade', 'Histological type', 'MSKCC type',\n",
       "       'Site of primary STS', 'Status (NED, AWD, D)', 'Treatment'],\n",
       "      dtype='object')"
      ]
     },
     "execution_count": 6,
     "metadata": {},
     "output_type": "execute_result"
    }
   ],
   "source": [
    "df.columns\n"
   ]
  },
  {
   "cell_type": "code",
   "execution_count": 7,
   "id": "0122fdbd-9c3c-46d3-bd10-54b4b9d63a2f",
   "metadata": {},
   "outputs": [
    {
     "data": {
      "text/plain": [
       "Patient ID              object\n",
       "Sex                     object\n",
       "Age                      int64\n",
       "Grade                   object\n",
       "Histological type       object\n",
       "MSKCC type              object\n",
       "Site of primary STS     object\n",
       "Status (NED, AWD, D)    object\n",
       "Treatment               object\n",
       "dtype: object"
      ]
     },
     "execution_count": 7,
     "metadata": {},
     "output_type": "execute_result"
    }
   ],
   "source": [
    "df. dtypes"
   ]
  },
  {
   "cell_type": "code",
   "execution_count": 8,
   "id": "59e7608d-67c5-4263-bdb6-6c428c646e67",
   "metadata": {},
   "outputs": [
    {
     "data": {
      "text/plain": [
       "(500, 9)"
      ]
     },
     "execution_count": 8,
     "metadata": {},
     "output_type": "execute_result"
    }
   ],
   "source": [
    "#here we are getting the shape of our dataframe\n",
    "df.shape"
   ]
  },
  {
   "cell_type": "code",
   "execution_count": 9,
   "id": "ba973e7c-f5d4-4b03-866c-66c9146b74c2",
   "metadata": {},
   "outputs": [
    {
     "data": {
      "text/html": [
       "<div>\n",
       "<style scoped>\n",
       "    .dataframe tbody tr th:only-of-type {\n",
       "        vertical-align: middle;\n",
       "    }\n",
       "\n",
       "    .dataframe tbody tr th {\n",
       "        vertical-align: top;\n",
       "    }\n",
       "\n",
       "    .dataframe thead th {\n",
       "        text-align: right;\n",
       "    }\n",
       "</style>\n",
       "<table border=\"1\" class=\"dataframe\">\n",
       "  <thead>\n",
       "    <tr style=\"text-align: right;\">\n",
       "      <th></th>\n",
       "      <th>Patient ID</th>\n",
       "      <th>Sex</th>\n",
       "      <th>Age</th>\n",
       "      <th>Grade</th>\n",
       "      <th>Histological type</th>\n",
       "      <th>MSKCC type</th>\n",
       "      <th>Site of primary STS</th>\n",
       "      <th>Status (NED, AWD, D)</th>\n",
       "      <th>Treatment</th>\n",
       "    </tr>\n",
       "  </thead>\n",
       "  <tbody>\n",
       "    <tr>\n",
       "      <th>0</th>\n",
       "      <td>False</td>\n",
       "      <td>False</td>\n",
       "      <td>False</td>\n",
       "      <td>False</td>\n",
       "      <td>False</td>\n",
       "      <td>False</td>\n",
       "      <td>False</td>\n",
       "      <td>False</td>\n",
       "      <td>False</td>\n",
       "    </tr>\n",
       "    <tr>\n",
       "      <th>1</th>\n",
       "      <td>False</td>\n",
       "      <td>False</td>\n",
       "      <td>False</td>\n",
       "      <td>False</td>\n",
       "      <td>False</td>\n",
       "      <td>False</td>\n",
       "      <td>False</td>\n",
       "      <td>False</td>\n",
       "      <td>False</td>\n",
       "    </tr>\n",
       "    <tr>\n",
       "      <th>2</th>\n",
       "      <td>False</td>\n",
       "      <td>False</td>\n",
       "      <td>False</td>\n",
       "      <td>False</td>\n",
       "      <td>False</td>\n",
       "      <td>False</td>\n",
       "      <td>False</td>\n",
       "      <td>False</td>\n",
       "      <td>False</td>\n",
       "    </tr>\n",
       "    <tr>\n",
       "      <th>3</th>\n",
       "      <td>False</td>\n",
       "      <td>False</td>\n",
       "      <td>False</td>\n",
       "      <td>False</td>\n",
       "      <td>False</td>\n",
       "      <td>False</td>\n",
       "      <td>False</td>\n",
       "      <td>False</td>\n",
       "      <td>False</td>\n",
       "    </tr>\n",
       "    <tr>\n",
       "      <th>4</th>\n",
       "      <td>False</td>\n",
       "      <td>False</td>\n",
       "      <td>False</td>\n",
       "      <td>False</td>\n",
       "      <td>False</td>\n",
       "      <td>False</td>\n",
       "      <td>False</td>\n",
       "      <td>False</td>\n",
       "      <td>False</td>\n",
       "    </tr>\n",
       "    <tr>\n",
       "      <th>...</th>\n",
       "      <td>...</td>\n",
       "      <td>...</td>\n",
       "      <td>...</td>\n",
       "      <td>...</td>\n",
       "      <td>...</td>\n",
       "      <td>...</td>\n",
       "      <td>...</td>\n",
       "      <td>...</td>\n",
       "      <td>...</td>\n",
       "    </tr>\n",
       "    <tr>\n",
       "      <th>495</th>\n",
       "      <td>False</td>\n",
       "      <td>False</td>\n",
       "      <td>False</td>\n",
       "      <td>False</td>\n",
       "      <td>False</td>\n",
       "      <td>False</td>\n",
       "      <td>False</td>\n",
       "      <td>False</td>\n",
       "      <td>False</td>\n",
       "    </tr>\n",
       "    <tr>\n",
       "      <th>496</th>\n",
       "      <td>False</td>\n",
       "      <td>False</td>\n",
       "      <td>False</td>\n",
       "      <td>False</td>\n",
       "      <td>False</td>\n",
       "      <td>False</td>\n",
       "      <td>False</td>\n",
       "      <td>False</td>\n",
       "      <td>False</td>\n",
       "    </tr>\n",
       "    <tr>\n",
       "      <th>497</th>\n",
       "      <td>False</td>\n",
       "      <td>False</td>\n",
       "      <td>False</td>\n",
       "      <td>False</td>\n",
       "      <td>False</td>\n",
       "      <td>False</td>\n",
       "      <td>False</td>\n",
       "      <td>False</td>\n",
       "      <td>False</td>\n",
       "    </tr>\n",
       "    <tr>\n",
       "      <th>498</th>\n",
       "      <td>False</td>\n",
       "      <td>False</td>\n",
       "      <td>False</td>\n",
       "      <td>False</td>\n",
       "      <td>False</td>\n",
       "      <td>False</td>\n",
       "      <td>False</td>\n",
       "      <td>False</td>\n",
       "      <td>False</td>\n",
       "    </tr>\n",
       "    <tr>\n",
       "      <th>499</th>\n",
       "      <td>False</td>\n",
       "      <td>False</td>\n",
       "      <td>False</td>\n",
       "      <td>False</td>\n",
       "      <td>False</td>\n",
       "      <td>False</td>\n",
       "      <td>False</td>\n",
       "      <td>False</td>\n",
       "      <td>False</td>\n",
       "    </tr>\n",
       "  </tbody>\n",
       "</table>\n",
       "<p>500 rows × 9 columns</p>\n",
       "</div>"
      ],
      "text/plain": [
       "     Patient ID    Sex    Age  Grade  Histological type  MSKCC type  \\\n",
       "0         False  False  False  False              False       False   \n",
       "1         False  False  False  False              False       False   \n",
       "2         False  False  False  False              False       False   \n",
       "3         False  False  False  False              False       False   \n",
       "4         False  False  False  False              False       False   \n",
       "..          ...    ...    ...    ...                ...         ...   \n",
       "495       False  False  False  False              False       False   \n",
       "496       False  False  False  False              False       False   \n",
       "497       False  False  False  False              False       False   \n",
       "498       False  False  False  False              False       False   \n",
       "499       False  False  False  False              False       False   \n",
       "\n",
       "     Site of primary STS  Status (NED, AWD, D)  Treatment  \n",
       "0                  False                 False      False  \n",
       "1                  False                 False      False  \n",
       "2                  False                 False      False  \n",
       "3                  False                 False      False  \n",
       "4                  False                 False      False  \n",
       "..                   ...                   ...        ...  \n",
       "495                False                 False      False  \n",
       "496                False                 False      False  \n",
       "497                False                 False      False  \n",
       "498                False                 False      False  \n",
       "499                False                 False      False  \n",
       "\n",
       "[500 rows x 9 columns]"
      ]
     },
     "execution_count": 9,
     "metadata": {},
     "output_type": "execute_result"
    }
   ],
   "source": [
    "#here we trying to know is there any data is null which will return in true or flase\n",
    "pd.isnull(df)"
   ]
  },
  {
   "cell_type": "code",
   "execution_count": 10,
   "id": "ac3ff893-d59f-4c55-875f-f9d4fa229d70",
   "metadata": {},
   "outputs": [
    {
     "data": {
      "text/plain": [
       "Patient ID              0\n",
       "Sex                     0\n",
       "Age                     0\n",
       "Grade                   0\n",
       "Histological type       0\n",
       "MSKCC type              0\n",
       "Site of primary STS     0\n",
       "Status (NED, AWD, D)    0\n",
       "Treatment               0\n",
       "dtype: int64"
      ]
     },
     "execution_count": 10,
     "metadata": {},
     "output_type": "execute_result"
    }
   ],
   "source": [
    "#pd.isnull(df).sum() counts the number of missing values in each column of the DataFrame df.\n",
    "#here we can easily see that in code there is 270 value is null\n",
    "pd.isnull(df).sum()"
   ]
  },
  {
   "cell_type": "code",
   "execution_count": 11,
   "id": "22d7f894-40a7-4c7a-be8f-d07b8a9dc0cf",
   "metadata": {},
   "outputs": [
    {
     "data": {
      "text/plain": [
       "dtype('O')"
      ]
     },
     "execution_count": 11,
     "metadata": {},
     "output_type": "execute_result"
    }
   ],
   "source": [
    "df['Sex'].dtype"
   ]
  },
  {
   "cell_type": "code",
   "execution_count": 12,
   "id": "2546850a-aef0-45fb-bf78-fa02f2a3d012",
   "metadata": {},
   "outputs": [
    {
     "data": {
      "text/plain": [
       "dtype('int64')"
      ]
     },
     "execution_count": 12,
     "metadata": {},
     "output_type": "execute_result"
    }
   ],
   "source": [
    "df['Age'].dtype"
   ]
  },
  {
   "cell_type": "code",
   "execution_count": 13,
   "id": "4b5351d8-8c61-4a00-973d-f1044dee2fa0",
   "metadata": {},
   "outputs": [
    {
     "name": "stdout",
     "output_type": "stream",
     "text": [
      "0      63.0\n",
      "1      54.0\n",
      "2      22.0\n",
      "3      54.0\n",
      "4      63.0\n",
      "       ... \n",
      "495    31.0\n",
      "496    41.0\n",
      "497    60.0\n",
      "498    43.0\n",
      "499    73.0\n",
      "Name: Age, Length: 500, dtype: float64\n"
     ]
    }
   ],
   "source": [
    "#here int has change to float\n",
    "df['Age']=df['Age'].astype(float)\n",
    "print(df['Age'])"
   ]
  },
  {
   "cell_type": "code",
   "execution_count": 14,
   "id": "eec43333-aac2-492a-8ac3-98a97b00401d",
   "metadata": {},
   "outputs": [
    {
     "name": "stdout",
     "output_type": "stream",
     "text": [
      "      Age\n",
      "0    63.0\n",
      "1    54.0\n",
      "2    22.0\n",
      "3    54.0\n",
      "4    63.0\n",
      "..    ...\n",
      "494  54.0\n",
      "495  31.0\n",
      "496  41.0\n",
      "497  60.0\n",
      "498  43.0\n",
      "\n",
      "[425 rows x 1 columns]\n"
     ]
    }
   ],
   "source": [
    "Filter_Data=df.loc[df['Age']<73,['Age']]\n",
    "print(Filter_Data)"
   ]
  },
  {
   "cell_type": "code",
   "execution_count": 15,
   "id": "31031e0e-592c-41f3-925f-c5c7da80ec4d",
   "metadata": {},
   "outputs": [
    {
     "data": {
      "text/plain": [
       "Patient ID              0\n",
       "Sex                     0\n",
       "Age                     0\n",
       "Grade                   0\n",
       "Histological type       0\n",
       "MSKCC type              0\n",
       "Site of primary STS     0\n",
       "Status (NED, AWD, D)    0\n",
       "Treatment               0\n",
       "dtype: int64"
      ]
     },
     "execution_count": 15,
     "metadata": {},
     "output_type": "execute_result"
    }
   ],
   "source": [
    "df.isnull().sum()\n"
   ]
  },
  {
   "cell_type": "code",
   "execution_count": 17,
   "id": "98029e02-71a1-4860-8413-86138784d972",
   "metadata": {},
   "outputs": [
    {
     "data": {
      "text/html": [
       "<div>\n",
       "<style scoped>\n",
       "    .dataframe tbody tr th:only-of-type {\n",
       "        vertical-align: middle;\n",
       "    }\n",
       "\n",
       "    .dataframe tbody tr th {\n",
       "        vertical-align: top;\n",
       "    }\n",
       "\n",
       "    .dataframe thead th {\n",
       "        text-align: right;\n",
       "    }\n",
       "</style>\n",
       "<table border=\"1\" class=\"dataframe\">\n",
       "  <thead>\n",
       "    <tr style=\"text-align: right;\">\n",
       "      <th></th>\n",
       "      <th>Age</th>\n",
       "    </tr>\n",
       "  </thead>\n",
       "  <tbody>\n",
       "    <tr>\n",
       "      <th>count</th>\n",
       "      <td>500.000000</td>\n",
       "    </tr>\n",
       "    <tr>\n",
       "      <th>mean</th>\n",
       "      <td>55.396000</td>\n",
       "    </tr>\n",
       "    <tr>\n",
       "      <th>std</th>\n",
       "      <td>16.131573</td>\n",
       "    </tr>\n",
       "    <tr>\n",
       "      <th>min</th>\n",
       "      <td>17.000000</td>\n",
       "    </tr>\n",
       "    <tr>\n",
       "      <th>25%</th>\n",
       "      <td>44.000000</td>\n",
       "    </tr>\n",
       "    <tr>\n",
       "      <th>50%</th>\n",
       "      <td>56.000000</td>\n",
       "    </tr>\n",
       "    <tr>\n",
       "      <th>75%</th>\n",
       "      <td>68.000000</td>\n",
       "    </tr>\n",
       "    <tr>\n",
       "      <th>max</th>\n",
       "      <td>83.000000</td>\n",
       "    </tr>\n",
       "  </tbody>\n",
       "</table>\n",
       "</div>"
      ],
      "text/plain": [
       "              Age\n",
       "count  500.000000\n",
       "mean    55.396000\n",
       "std     16.131573\n",
       "min     17.000000\n",
       "25%     44.000000\n",
       "50%     56.000000\n",
       "75%     68.000000\n",
       "max     83.000000"
      ]
     },
     "execution_count": 17,
     "metadata": {},
     "output_type": "execute_result"
    }
   ],
   "source": [
    "df.describe()\n"
   ]
  },
  {
   "cell_type": "code",
   "execution_count": 19,
   "id": "f44f8ba9-93e9-4ae8-87f3-0dbd5c4996f8",
   "metadata": {},
   "outputs": [
    {
     "data": {
      "image/png": "[encoded data removed]",
      "text/plain": [
       "<Figure size 640x480 with 1 Axes>"
      ]
     },
     "metadata": {},
     "output_type": "display_data"
    }
   ],
   "source": [
    "sns.boxplot(x='Grade', y='Age', data=df)\n",
    "plt.title('Box plot of Age')\n",
    "plt.xlabel('Grade')\n",
    "plt.ylabel('Age')\n",
    "plt.show()"
   ]
  },
  {
   "cell_type": "code",
   "execution_count": null,
   "id": "a42b5c5f-82a9-43b5-aa9b-02d9e1eb86fc",
   "metadata": {},
   "outputs": [],
   "source": []
  }
 ],
 "metadata": {
  "kernelspec": {
   "display_name": "Python 3 (ipykernel)",
   "language": "python",
   "name": "python3"
  },
  "language_info": {
   "codemirror_mode": {
    "name": "ipython",
    "version": 3
   },
   "file_extension": ".py",
   "mimetype": "text/x-python",
   "name": "python",
   "nbconvert_exporter": "python",
   "pygments_lexer": "ipython3",
   "version": "3.12.2"
  }
 },
 "nbformat": 4,
 "nbformat_minor": 5
}
